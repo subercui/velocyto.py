{
 "cells": [
  {
   "cell_type": "code",
   "execution_count": 1,
   "metadata": {},
   "outputs": [
    {
     "name": "stdout",
     "output_type": "stream",
     "text": [
      "Pixiedust database opened successfully\n"
     ]
    },
    {
     "data": {
      "text/html": [
       "\n",
       "        <div style=\"margin:10px\">\n",
       "            <a href=\"https://github.com/ibm-watson-data-lab/pixiedust\" target=\"_new\">\n",
       "                <img src=\"https://github.com/ibm-watson-data-lab/pixiedust/raw/master/docs/_static/pd_icon32.png\" style=\"float:left;margin-right:10px\"/>\n",
       "            </a>\n",
       "            <span>Pixiedust version 1.1.17</span>\n",
       "        </div>\n",
       "        "
      ],
      "text/plain": [
       "<IPython.core.display.HTML object>"
      ]
     },
     "metadata": {},
     "output_type": "display_data"
    },
    {
     "data": {
      "text/html": [
       "<style>.container { width:90% !important; }</style>"
      ],
      "text/plain": [
       "<IPython.core.display.HTML object>"
      ]
     },
     "metadata": {},
     "output_type": "display_data"
    }
   ],
   "source": [
    "import sys\n",
    "import numpy as np\n",
    "import pandas as pd\n",
    "import matplotlib\n",
    "import loompy\n",
    "import matplotlib.pyplot as plt\n",
    "import scipy.optimize\n",
    "import velocyto as vcy\n",
    "import glob\n",
    "from sklearn.decomposition import PCA\n",
    "from scipy.spatial.distance import pdist, squareform\n",
    "import pickle\n",
    "import pixiedust\n",
    "from IPython.core.display import display, HTML\n",
    "display(HTML(\"<style>.container { width:90% !important; }</style>\"))\n",
    "%matplotlib inline"
   ]
  },
  {
   "cell_type": "code",
   "execution_count": 2,
   "metadata": {},
   "outputs": [
    {
     "name": "stdout",
     "output_type": "stream",
     "text": [
      "mkdir: cannot create directory ‘data’: File exists\r\n"
     ]
    },
    {
     "data": {
      "text/plain": [
       "('data/hgForebrainGlut.loom', <http.client.HTTPMessage at 0x7fbc8cdebdd0>)"
      ]
     },
     "execution_count": 2,
     "metadata": {},
     "output_type": "execute_result"
    }
   ],
   "source": [
    "!mkdir data\n",
    "from urllib.request import urlretrieve\n",
    "urlretrieve(\"http://pklab.med.harvard.edu/velocyto/hgForebrainGlut/hgForebrainGlut.loom\", \"data/hgForebrainGlut.loom\")"
   ]
  },
  {
   "cell_type": "code",
   "execution_count": 3,
   "metadata": {},
   "outputs": [],
   "source": [
    "vlm = vcy.VelocytoLoom(\"data/hgForebrainGlut.loom\")"
   ]
  },
  {
   "cell_type": "markdown",
   "metadata": {},
   "source": [
    "# Test the VelocytoLoom Class\n",
    "## 1. Spliced features"
   ]
  },
  {
   "cell_type": "code",
   "execution_count": 4,
   "metadata": {},
   "outputs": [
    {
     "name": "stdout",
     "output_type": "stream",
     "text": [
      "[[0 0 0 ... 0 0 0]\n",
      " [0 0 0 ... 0 0 0]\n",
      " [0 0 0 ... 0 0 0]\n",
      " ...\n",
      " [0 0 0 ... 0 0 0]\n",
      " [0 0 0 ... 0 0 0]\n",
      " [0 0 0 ... 0 0 0]] \n",
      "Shape: (32738, 1720)\n"
     ]
    }
   ],
   "source": [
    "# Spliced features\n",
    "print(vlm.S,'\\nShape:',vlm.S.shape)"
   ]
  },
  {
   "cell_type": "code",
   "execution_count": 5,
   "metadata": {},
   "outputs": [
    {
     "data": {
      "text/plain": [
       "(array([5.2721378e+07, 2.2718640e+06, 1.1494690e+06, 1.6367200e+05,\n",
       "        1.9310000e+03, 6.2600000e+02, 2.9200000e+02, 9.7000000e+01,\n",
       "        2.2000000e+01, 5.0000000e+00, 4.0000000e+00]),\n",
       " array([   0,    1,    2,   10,  100,  240,  360,  480,  600,  800, 1000,\n",
       "        1195]),\n",
       " <a list of 11 Patch objects>)"
      ]
     },
     "execution_count": 5,
     "metadata": {},
     "output_type": "execute_result"
    },
    {
     "data": {
      "image/png": "[encoded data removed]",
      "text/plain": [
       "<Figure size 432x288 with 1 Axes>"
      ]
     },
     "metadata": {
      "needs_background": "light"
     },
     "output_type": "display_data"
    }
   ],
   "source": [
    "np.histogram(vlm.S, bins=[0,1,2,10,100,240,360,480,600,800,1000,1195])\n",
    "plt.hist(vlm.S.flatten(),bins=[0,1,2,10,100,240,360,480,600,800,1000,1195],log=True)"
   ]
  },
  {
   "cell_type": "code",
   "execution_count": 6,
   "metadata": {},
   "outputs": [
    {
     "data": {
      "text/plain": [
       "0.06371910460356857"
      ]
     },
     "execution_count": 6,
     "metadata": {},
     "output_type": "execute_result"
    }
   ],
   "source": [
    "# the feature is very sparse, only 6.4% non-zeros \n",
    "(vlm.S.flatten()>0).sum() / len(vlm.S.flatten())"
   ]
  },
  {
   "cell_type": "markdown",
   "metadata": {},
   "source": [
    "## 2. UnSpliced features"
   ]
  },
  {
   "cell_type": "code",
   "execution_count": 7,
   "metadata": {},
   "outputs": [
    {
     "name": "stdout",
     "output_type": "stream",
     "text": [
      "[[0 0 0 ... 0 0 0]\n",
      " [0 0 0 ... 0 0 0]\n",
      " [0 0 0 ... 0 0 0]\n",
      " ...\n",
      " [0 0 0 ... 0 0 0]\n",
      " [0 0 0 ... 0 0 0]\n",
      " [0 0 0 ... 0 0 0]] \n",
      "Shape: (32738, 1720)\n"
     ]
    }
   ],
   "source": [
    "# UnSpliced features\n",
    "print(vlm.U,'\\nShape:',vlm.U.shape)"
   ]
  },
  {
   "cell_type": "code",
   "execution_count": 8,
   "metadata": {},
   "outputs": [
    {
     "data": {
      "text/plain": [
       "(array([5.3927716e+07, 1.6675770e+06, 6.4391500e+05, 6.3785000e+04,\n",
       "        5.1160000e+03, 8.4100000e+02, 2.2100000e+02, 1.1100000e+02,\n",
       "        5.6000000e+01, 1.8000000e+01, 4.0000000e+00]),\n",
       " array([  0,   1,   2,   6,  18,  36,  54,  71,  90, 110, 130, 178]),\n",
       " <a list of 11 Patch objects>)"
      ]
     },
     "execution_count": 8,
     "metadata": {},
     "output_type": "execute_result"
    },
    {
     "data": {
      "image/png": "[encoded data removed]",
      "text/plain": [
       "<Figure size 432x288 with 1 Axes>"
      ]
     },
     "metadata": {
      "needs_background": "light"
     },
     "output_type": "display_data"
    }
   ],
   "source": [
    "np.histogram(vlm.U, bins=[0,1,2,6,18,36,54,71,90,130,178])\n",
    "plt.hist(vlm.U.flatten(),bins=[0,1,2,6,18,36,54,71,90,110,130,178],log=True)"
   ]
  },
  {
   "cell_type": "code",
   "execution_count": 9,
   "metadata": {},
   "outputs": [
    {
     "data": {
      "text/plain": [
       "0.04229570359172969"
      ]
     },
     "execution_count": 9,
     "metadata": {},
     "output_type": "execute_result"
    }
   ],
   "source": [
    "# the feature is very sparse, only 4.3% non-zeros \n",
    "(vlm.U.flatten()>0).sum() / len(vlm.U.flatten())"
   ]
  },
  {
   "cell_type": "markdown",
   "metadata": {},
   "source": [
    "## <span style=\"color:red\">U和S还能在同一个位置同时非0，这怎么理解？！一个序列不是要么U要么S吗</span>\n",
    "Only can guess and assume for now, that this data has been processed and somehow combine the unsliced and sliced seq for a single gene position.\n",
    "\n",
    "And if that is so, we need the the actual raw data."
   ]
  },
  {
   "cell_type": "code",
   "execution_count": 10,
   "metadata": {},
   "outputs": [
    {
     "data": {
      "text/plain": [
       "1195"
      ]
     },
     "execution_count": 10,
     "metadata": {},
     "output_type": "execute_result"
    }
   ],
   "source": [
    "vlm.S[vlm.U>0].max()"
   ]
  },
  {
   "cell_type": "code",
   "execution_count": 11,
   "metadata": {},
   "outputs": [
    {
     "data": {
      "text/plain": [
       "{'CellID': array(['10X_17_028:AACCATGGTAATCACCx', '10X_17_028:AACCATGCATACTACGx',\n",
       "        '10X_17_028:AAACCTGGTAAAGGAGx', ...,\n",
       "        '10X_17_029:TTTGGTTGTACCCAATx', '10X_17_029:TTTCCTCCAGTCCTTCx',\n",
       "        '10X_17_029:TTTGCGCCACAGATTCx'], dtype=object),\n",
       " 'Clusters': array([3, 3, 1, ..., 6, 0, 1])}"
      ]
     },
     "execution_count": 11,
     "metadata": {},
     "output_type": "execute_result"
    }
   ],
   "source": [
    "# columns\n",
    "vlm.ca"
   ]
  },
  {
   "cell_type": "code",
   "execution_count": 12,
   "metadata": {},
   "outputs": [
    {
     "data": {
      "text/plain": [
       "1720"
      ]
     },
     "execution_count": 12,
     "metadata": {},
     "output_type": "execute_result"
    }
   ],
   "source": [
    "len(vlm.ca['CellID']) # 1720 cells"
   ]
  },
  {
   "cell_type": "code",
   "execution_count": 13,
   "metadata": {},
   "outputs": [
    {
     "data": {
      "text/plain": [
       "{'Accession': array(['ENSG00000237613', 'ENSG00000238009', 'ENSG00000239945', ...,\n",
       "        'ENSG00000240450', 'ENSG00000172288', 'ENSG00000231141'],\n",
       "       dtype=object),\n",
       " 'Chromosome': array(['1', '1', '1', ..., 'Y', 'Y', 'Y'], dtype=object),\n",
       " 'End': array([   36081,   133566,    91105, ..., 27632852, 27771049, 27879535]),\n",
       " 'Gene': array(['FAM138A', 'RP11-34P13.7', 'RP11-34P13.8', ..., 'CSPG4P1Y', 'CDY1',\n",
       "        'TTTY3'], dtype=object),\n",
       " 'Start': array([   34554,    89295,    89551, ..., 27629055, 27768264, 27874637]),\n",
       " 'Strand': array(['-', '-', '-', ..., '+', '+', '+'], dtype=object)}"
      ]
     },
     "execution_count": 13,
     "metadata": {},
     "output_type": "execute_result"
    }
   ],
   "source": [
    "# rows\n",
    "vlm.ra"
   ]
  },
  {
   "cell_type": "code",
   "execution_count": 14,
   "metadata": {},
   "outputs": [
    {
     "data": {
      "text/plain": [
       "32738"
      ]
     },
     "execution_count": 14,
     "metadata": {},
     "output_type": "execute_result"
    }
   ],
   "source": [
    "len(vlm.ra['Gene'])  # 32738 genes"
   ]
  },
  {
   "cell_type": "code",
   "execution_count": 15,
   "metadata": {},
   "outputs": [
    {
     "data": {
      "text/plain": [
       "array([5924, 5998, 4594, ..., 8717, 8169, 5731], dtype=uint64)"
      ]
     },
     "execution_count": 15,
     "metadata": {},
     "output_type": "execute_result"
    }
   ],
   "source": [
    "vlm.initial_cell_size"
   ]
  },
  {
   "cell_type": "code",
   "execution_count": 16,
   "metadata": {},
   "outputs": [],
   "source": [
    "from IPython.core.debugger import set_trace"
   ]
  },
  {
   "cell_type": "code",
   "execution_count": 20,
   "metadata": {
    "pixiedust": {
     "displayParams": {}
    }
   },
   "outputs": [
    {
     "data": {
      "text/html": [
       "<style type=\"text/css\">.pd_warning{display:none;}</style><div class=\"pd_warning\"><em>Hey, there's something awesome here! To see it, open this notebook outside GitHub, in a viewer like Jupyter</em></div>"
      ],
      "text/plain": [
       "<IPython.core.display.HTML object>"
      ]
     },
     "metadata": {
      "pixieapp_metadata": null
     },
     "output_type": "display_data"
    }
   ],
   "source": [
    "%%pixie_debugger\n",
    "vlm.plot_fractions()"
   ]
  },
  {
   "cell_type": "markdown",
   "metadata": {},
   "source": [
    "## <span style=\"color:red\">the '10X_17_028' something is the tissue sample the cell comes from? So they have different tissues for this one dataset?! That should be impossible, otherwise how are we estimating differential relations among different tissues?!</span>"
   ]
  },
  {
   "cell_type": "code",
   "execution_count": 24,
   "metadata": {},
   "outputs": [
    {
     "data": {
      "text/plain": [
       "(array(['10X_17_028', '10X_17_029'], dtype='<U10'),\n",
       " array([0, 0, 0, ..., 1, 1, 1]))"
      ]
     },
     "execution_count": 24,
     "metadata": {},
     "output_type": "execute_result"
    }
   ],
   "source": [
    "np.unique([i.split(\":\")[0] for i in vlm.ca[\"CellID\"]], return_inverse=1)"
   ]
  },
  {
   "cell_type": "code",
   "execution_count": null,
   "metadata": {},
   "outputs": [],
   "source": []
  }
 ],
 "metadata": {
  "kernelspec": {
   "display_name": "Python 3",
   "language": "python",
   "name": "python3"
  },
  "language_info": {
   "codemirror_mode": {
    "name": "ipython",
    "version": 3
   },
   "file_extension": ".py",
   "mimetype": "text/x-python",
   "name": "python",
   "nbconvert_exporter": "python",
   "pygments_lexer": "ipython3",
   "version": "3.7.5"
  }
 },
 "nbformat": 4,
 "nbformat_minor": 2
}
